{
 "nbformat": 4,
 "nbformat_minor": 2,
 "metadata": {
  "language_info": {
   "name": "python",
   "codemirror_mode": {
    "name": "ipython",
    "version": 3
   },
   "version": "3.7.6-final"
  },
  "orig_nbformat": 2,
  "file_extension": ".py",
  "mimetype": "text/x-python",
  "name": "python",
  "npconvert_exporter": "python",
  "pygments_lexer": "ipython3",
  "version": 3,
  "kernelspec": {
   "name": "python37664bitimagecaptioncondab935fdbffff647e1a99be22c622491c2",
   "display_name": "Python 3.7.6 64-bit ('image_caption': conda)"
  }
 },
 "cells": [
  {
   "cell_type": "code",
   "execution_count": 1,
   "metadata": {},
   "outputs": [],
   "source": [
    "# TODO: training code"
   ]
  },
  {
   "cell_type": "code",
   "execution_count": 2,
   "metadata": {},
   "outputs": [],
   "source": [
    "import os\n",
    "\n",
    "import torch\n",
    "import torch.nn as nn\n",
    "from torch.nn.utils.rnn import pack_padded_sequence\n",
    "\n",
    "import numpy as np\n",
    "\n",
    "from utils.preprocess_text import Dictionary\n",
    "from model import Encoder, Decoder\n",
    "from utils.dataloader import get_loader\n",
    "from torchvision import transforms\n",
    "\n",
    "from tqdm import tqdm"
   ]
  },
  {
   "cell_type": "code",
   "execution_count": 3,
   "metadata": {},
   "outputs": [
    {
     "name": "stdout",
     "output_type": "stream",
     "text": "CUDA: True\n"
    }
   ],
   "source": [
    "device = torch.device('cuda' if torch.cuda.is_available() else 'cpu')\n",
    "print(f'CUDA: {torch.cuda.is_available()}')"
   ]
  },
  {
   "cell_type": "code",
   "execution_count": 4,
   "metadata": {},
   "outputs": [
    {
     "name": "stdout",
     "output_type": "stream",
     "text": "loading annotations into memory...\nDone (t=0.47s)\ncreating index...\nindex created!\n"
    }
   ],
   "source": [
    "crop_size = 224\n",
    "transform = transforms.Compose([ \n",
    "transforms.RandomCrop(crop_size),\n",
    "transforms.RandomHorizontalFlip(), \n",
    "transforms.ToTensor(), \n",
    "transforms.Normalize((0.485, 0.456, 0.406), \n",
    "                        (0.229, 0.224, 0.225))])\n",
    "dct = Dictionary()\n",
    "dct.load_dict('data/vocab.txt')\n",
    "data_loader = get_loader('data/train2014_resize', 'data/annotations/captions_train2014.json', dct, \n",
    "                             transform, batch_size=32,\n",
    "                             shuffle=True, num_workers=5) "
   ]
  },
  {
   "cell_type": "code",
   "execution_count": 5,
   "metadata": {},
   "outputs": [
    {
     "name": "stderr",
     "output_type": "stream",
     "text": "0%|          | 0/12942 [00:00<?, ?it/s]epoch 1:\n 15%|█▍        | 1925/12942 [05:03<29:20,  6.26it/s]"
    }
   ],
   "source": [
    "def train(dct_size, num_layers=1, embed_size=256, hidden_size=512, epochs=10, save_step=1000, lr=0.001, model_save='model/'):\n",
    "    encoder = Encoder(embed_size=256).to(device)\n",
    "    decoder = Decoder(embed_size=256, hidden_size=512, dct_size=len(dct), num_layers=1).to(device)\n",
    "    criterion = nn.CrossEntropyLoss()\n",
    "    params = list(decoder.parameters()) + list(encoder.linear.parameters()) + list(encoder.bn.parameters())\n",
    "    optimizer = torch.optim.Adam(params, lr=lr)\n",
    "\n",
    "    for epoch in range(epochs):\n",
    "        print(f'epoch {epoch+1}:')\n",
    "        for i, (images, captions, lengths) in enumerate(tqdm(data_loader)):\n",
    "        # Set mini-batch dataset\n",
    "            images = images.to(device)\n",
    "            captions = captions.to(device)\n",
    "            targets = pack_padded_sequence(captions, lengths, batch_first=True)[0]\n",
    "            \n",
    "            # Forward, backward and optimize\n",
    "            features = encoder(images)\n",
    "            outputs = decoder(features, captions, lengths)\n",
    "            loss = criterion(outputs, targets)\n",
    "            decoder.zero_grad()\n",
    "            encoder.zero_grad()\n",
    "            loss.backward()\n",
    "            optimizer.step()\n",
    "            if (i+1) % save_step == 0:\n",
    "                torch.save(decoder.state_dict(), os.path.join(\n",
    "                    model_save, 'decoder-{}-{}.ckpt'.format(epoch+1, i+1)))\n",
    "                torch.save(encoder.state_dict(), os.path.join(\n",
    "                    model_save, 'encoder-{}-{}.ckpt'.format(epoch+1, i+1)))\n",
    "train(len(dct), num_layers=1, embed_size=256, hidden_size=512, epochs=5, lr=0.001, save_step=1000, model_save='model/')"
   ]
  }
 ]
}